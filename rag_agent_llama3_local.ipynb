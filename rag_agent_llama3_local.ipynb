{
  "cells": [
    {
      "cell_type": "markdown",
      "metadata": {
        "id": "view-in-github",
        "colab_type": "text"
      },
      "source": [
        "<a href=\"https://colab.research.google.com/github/arksolutionzz/ark/blob/master/rag_agent_llama3_local.ipynb\" target=\"_parent\"><img src=\"https://colab.research.google.com/assets/colab-badge.svg\" alt=\"Open In Colab\"/></a>"
      ]
    },
    {
      "cell_type": "code",
      "execution_count": null,
      "id": "21e597f9",
      "metadata": {
        "id": "21e597f9"
      },
      "outputs": [],
      "source": [
        "%%capture --no-stderr\n",
        "%pip install -U langchain-nomic langchain_community tiktoken langchainhub chromadb langchain langgraph tavily-python nomic[local] langchain-text-splitters"
      ]
    },
    {
      "cell_type": "markdown",
      "id": "5bd42c79",
      "metadata": {
        "id": "5bd42c79"
      },
      "source": [
        "### Tracing (optional)"
      ]
    },
    {
      "cell_type": "code",
      "execution_count": null,
      "id": "333cbcf4",
      "metadata": {
        "id": "333cbcf4"
      },
      "outputs": [],
      "source": [
        "import os\n",
        "\n",
        "os.environ[\"LANGCHAIN_TRACING_V2\"] = \"true\"\n",
        "os.environ[\"LANGCHAIN_ENDPOINT\"] = \"https://api.smith.langchain.com\"\n",
        "os.environ[\"LANGCHAIN_API_KEY\"] = \"lsv2_sk_*************d\"\n",
        "os.environ[\"PINECONE_API_KEY\"] = \"69b0ebfb-**************54\""
      ]
    },
    {
      "cell_type": "code",
      "execution_count": null,
      "id": "2096d49c-d3dc-4329-ada7-aff56d210198",
      "metadata": {
        "id": "2096d49c-d3dc-4329-ada7-aff56d210198"
      },
      "outputs": [],
      "source": [
        "### LLM\n",
        "\n",
        "local_llm = \"llama3\""
      ]
    },
    {
      "cell_type": "code",
      "execution_count": null,
      "id": "e48c36ed-7284-4164-9cd8-b8b5aabff190",
      "metadata": {
        "id": "e48c36ed-7284-4164-9cd8-b8b5aabff190"
      },
      "outputs": [],
      "source": [
        "from langchain_community.document_loaders import WebBaseLoader\n",
        "from langchain_community.vectorstores import Chroma\n",
        "from langchain_community.embeddings import GPT4AllEmbeddings\n",
        "from langchain_community.document_loaders import FireCrawlLoader\n",
        "from langchain_text_splitters import RecursiveCharacterTextSplitter"
      ]
    },
    {
      "cell_type": "code",
      "execution_count": null,
      "id": "dd6154da-3f7d-46d0-8f6d-e2fa1c2cf159",
      "metadata": {
        "id": "dd6154da-3f7d-46d0-8f6d-e2fa1c2cf159",
        "outputId": "e3325a00-d0fc-4fe2-c7fe-b0e2b483d0b5"
      },
      "outputs": [
        {
          "data": {
            "text/plain": [
              "384"
            ]
          },
          "execution_count": 11,
          "metadata": {},
          "output_type": "execute_result"
        }
      ],
      "source": [
        "model_name = \"all-MiniLM-L6-v2.gguf2.f16.gguf\"\n",
        "gpt4all_kwargs = {'allow_download':'True'}\n",
        "embedding = GPT4AllEmbeddings(model_name=model_name,gpt4all_kwargs=gpt4all_kwargs)\n",
        "vector=embedding.embed_query('what is the embedding')\n",
        "len(vector)"
      ]
    },
    {
      "cell_type": "code",
      "execution_count": null,
      "id": "a8aeef5d-af6d-41dd-83f3-9828cac84f53",
      "metadata": {
        "id": "a8aeef5d-af6d-41dd-83f3-9828cac84f53"
      },
      "outputs": [],
      "source": [
        "import os\n",
        "from pinecone import Pinecone\n",
        "from langchain.vectorstores import Pinecone as LangchainPinecone\n",
        "from langchain_pinecone import PineconeVectorStore\n",
        "\n",
        "pinecone_api_key= \"69b0ebfb-**********4\"\n",
        "pinecone_enviornment = 'us-east-1'\n",
        "\n",
        "pc = Pinecone(api_key=pinecone_api_key,enviornment=pinecone_enviornment)"
      ]
    },
    {
      "cell_type": "code",
      "execution_count": null,
      "id": "44478beb-f3af-49ef-a94e-41fe74cb6091",
      "metadata": {
        "id": "44478beb-f3af-49ef-a94e-41fe74cb6091"
      },
      "outputs": [],
      "source": [
        "model_name = \"all-MiniLM-L6-v2.gguf2.f16.gguf\"\n",
        "gpt4all_kwargs = {'allow_download':'True'}\n",
        "\n",
        "urls = [\n",
        "    \"https://lilianweng.github.io/posts/2023-06-23-agent/\",\n",
        "    \"https://lilianweng.github.io/posts/2023-03-15-prompt-engineering/\",\n",
        "    \"https://lilianweng.github.io/posts/2023-10-25-adv-attack-llm/\",\n",
        "]\n",
        "\n",
        "docs = [WebBaseLoader(url).load() for url in urls]\n",
        "docs_list = [item for sublist in docs for item in sublist]\n",
        "\n",
        "text_splitter = RecursiveCharacterTextSplitter.from_tiktoken_encoder(\n",
        "    chunk_size=250, chunk_overlap=0\n",
        ")\n",
        "doc_splits = text_splitter.split_documents(docs_list)\n",
        "\n",
        "# Add to vectorDB\n",
        "# vectorstore = Chroma.from_documents(\n",
        "#     documents=doc_splits,\n",
        "#     collection_name=\"rag-chroma\",\n",
        "#     embedding=NomicEmbeddings(model=\"nomic-embed-text-v1.5\", inference_mode=\"local\"),\n",
        "# )\n",
        "\n",
        "vectorstore = LangchainPinecone.from_documents(\n",
        "    documents=doc_splits,\n",
        "    embedding=GPT4AllEmbeddings(model=model_name, gpt4all_kwargs=gpt4all_kwargs),\n",
        "    index_name='rag'\n",
        ")\n",
        "retriever = vectorstore.as_retriever()"
      ]
    },
    {
      "cell_type": "code",
      "execution_count": null,
      "id": "b008df98-8394-49da-8fb8-aefe2c90d03c",
      "metadata": {
        "id": "b008df98-8394-49da-8fb8-aefe2c90d03c",
        "outputId": "5f8383cc-4e44-412f-e48f-165f75a35a57"
      },
      "outputs": [
        {
          "name": "stdout",
          "output_type": "stream",
          "text": [
            "{'score': 'yes'}\n"
          ]
        }
      ],
      "source": [
        "### Retrieval Grader\n",
        "\n",
        "from langchain_community.chat_models import ChatOllama\n",
        "from langchain_core.output_parsers import JsonOutputParser\n",
        "from langchain_core.prompts import PromptTemplate\n",
        "\n",
        "# LLM\n",
        "llm = ChatOllama(model=local_llm, format=\"json\", temperature=0)\n",
        "\n",
        "prompt = PromptTemplate(\n",
        "    template=\"\"\"<|begin_of_text|><|start_header_id|>system<|end_header_id|> You are a grader assessing relevance\n",
        "    of a retrieved document to a user question. If the document contains keywords related to the user question,\n",
        "    grade it as relevant. It does not need to be a stringent test. The goal is to filter out erroneous retrievals. \\n\n",
        "    Give a binary score 'yes' or 'no' score to indicate whether the document is relevant to the question. \\n\n",
        "    Provide the binary score as a JSON with a single key 'score' and no premable or explanation.\n",
        "     <|eot_id|><|start_header_id|>user<|end_header_id|>\n",
        "    Here is the retrieved document: \\n\\n {document} \\n\\n\n",
        "    Here is the user question: {question} \\n <|eot_id|><|start_header_id|>assistant<|end_header_id|>\n",
        "    \"\"\",\n",
        "    input_variables=[\"question\", \"document\"],\n",
        ")\n",
        "\n",
        "retrieval_grader = prompt | llm | JsonOutputParser()\n",
        "question = \"agent memory\"\n",
        "docs = retriever.invoke(question)\n",
        "doc_txt = docs[1].page_content\n",
        "print(retrieval_grader.invoke({\"question\": question, \"document\": doc_txt}))"
      ]
    },
    {
      "cell_type": "code",
      "execution_count": null,
      "id": "1d531a81-6d4d-405e-975a-01ef1c9679fa",
      "metadata": {
        "id": "1d531a81-6d4d-405e-975a-01ef1c9679fa",
        "outputId": "ede8cb58-a4f8-4e6e-e383-9b87fd84945c"
      },
      "outputs": [
        {
          "name": "stdout",
          "output_type": "stream",
          "text": [
            "According to the context, the agent's memory refers to \"Memory stream: is a long-term memory module (external database) that records a comprehensive list of agents' experience in natural language.\"\n"
          ]
        }
      ],
      "source": [
        "### Generate\n",
        "\n",
        "from langchain_core.output_parsers import StrOutputParser\n",
        "from langchain_core.prompts import PromptTemplate\n",
        "\n",
        "# Prompt\n",
        "prompt = PromptTemplate(\n",
        "    template=\"\"\"<|begin_of_text|><|start_header_id|>system<|end_header_id|> You are an assistant for question-answering tasks.\n",
        "    Use the following pieces of retrieved context to answer the question. If you don't know the answer, just say that you don't know.\n",
        "    Use three sentences maximum and keep the answer concise <|eot_id|><|start_header_id|>user<|end_header_id|>\n",
        "    Question: {question}\n",
        "    Context: {context}\n",
        "    Answer: <|eot_id|><|start_header_id|>assistant<|end_header_id|>\"\"\",\n",
        "    input_variables=[\"question\", \"document\"],\n",
        ")\n",
        "\n",
        "llm = ChatOllama(model=local_llm, temperature=0)\n",
        "\n",
        "\n",
        "# Post-processing\n",
        "def format_docs(docs):\n",
        "    return \"\\n\\n\".join(doc.page_content for doc in docs)\n",
        "\n",
        "\n",
        "# Chain\n",
        "rag_chain = prompt | llm | StrOutputParser()\n",
        "\n",
        "# Run\n",
        "question = \"agent memory\"\n",
        "docs = retriever.invoke(question)\n",
        "generation = rag_chain.invoke({\"context\": docs, \"question\": question})\n",
        "print(generation)"
      ]
    },
    {
      "cell_type": "code",
      "execution_count": null,
      "id": "0261a9a4-de13-4dd8-b082-95305a3e43ca",
      "metadata": {
        "id": "0261a9a4-de13-4dd8-b082-95305a3e43ca",
        "outputId": "f71d1601-ea58-40af-df63-4804847d103a"
      },
      "outputs": [
        {
          "data": {
            "text/plain": [
              "{'score': 'yes'}"
            ]
          },
          "execution_count": 23,
          "metadata": {},
          "output_type": "execute_result"
        }
      ],
      "source": [
        "### Hallucination Grader\n",
        "\n",
        "# LLM\n",
        "llm = ChatOllama(model=local_llm, format=\"json\", temperature=0)\n",
        "\n",
        "# Prompt\n",
        "prompt = PromptTemplate(\n",
        "    template=\"\"\" <|begin_of_text|><|start_header_id|>system<|end_header_id|> You are a grader assessing whether\n",
        "    an answer is grounded in / supported by a set of facts. Give a binary 'yes' or 'no' score to indicate\n",
        "    whether the answer is grounded in / supported by a set of facts. Provide the binary score as a JSON with a\n",
        "    single key 'score' and no preamble or explanation. <|eot_id|><|start_header_id|>user<|end_header_id|>\n",
        "    Here are the facts:\n",
        "    \\n ------- \\n\n",
        "    {documents}\n",
        "    \\n ------- \\n\n",
        "    Here is the answer: {generation}  <|eot_id|><|start_header_id|>assistant<|end_header_id|>\"\"\",\n",
        "    input_variables=[\"generation\", \"documents\"],\n",
        ")\n",
        "\n",
        "hallucination_grader = prompt | llm | JsonOutputParser()\n",
        "hallucination_grader.invoke({\"documents\": docs, \"generation\": generation})"
      ]
    },
    {
      "cell_type": "code",
      "execution_count": null,
      "id": "df9f6944-4fee-4971-b3a7-2b81b44ed433",
      "metadata": {
        "id": "df9f6944-4fee-4971-b3a7-2b81b44ed433",
        "outputId": "f70bdce6-23d8-4328-d664-4f9f349b71c5"
      },
      "outputs": [
        {
          "data": {
            "text/plain": [
              "{'score': 'yes'}"
            ]
          },
          "execution_count": 24,
          "metadata": {},
          "output_type": "execute_result"
        }
      ],
      "source": [
        "### Answer Grader\n",
        "\n",
        "# LLM\n",
        "llm = ChatOllama(model=local_llm, format=\"json\", temperature=0)\n",
        "\n",
        "# Prompt\n",
        "prompt = PromptTemplate(\n",
        "    template=\"\"\"<|begin_of_text|><|start_header_id|>system<|end_header_id|> You are a grader assessing whether an\n",
        "    answer is useful to resolve a question. Give a binary score 'yes' or 'no' to indicate whether the answer is\n",
        "    useful to resolve a question. Provide the binary score as a JSON with a single key 'score' and no preamble or explanation.\n",
        "     <|eot_id|><|start_header_id|>user<|end_header_id|> Here is the answer:\n",
        "    \\n ------- \\n\n",
        "    {generation}\n",
        "    \\n ------- \\n\n",
        "    Here is the question: {question} <|eot_id|><|start_header_id|>assistant<|end_header_id|>\"\"\",\n",
        "    input_variables=[\"generation\", \"question\"],\n",
        ")\n",
        "\n",
        "answer_grader = prompt | llm | JsonOutputParser()\n",
        "answer_grader.invoke({\"question\": question, \"generation\": generation})"
      ]
    },
    {
      "cell_type": "code",
      "execution_count": null,
      "id": "a9c910c1-738c-4bf7-bf9e-801862b227eb",
      "metadata": {
        "id": "a9c910c1-738c-4bf7-bf9e-801862b227eb",
        "outputId": "2b2796e3-c09b-4044-fa14-7f7c2241cb1f"
      },
      "outputs": [
        {
          "name": "stderr",
          "output_type": "stream",
          "text": [
            "C:\\Users\\shail\\anaconda3\\envs\\rag\\lib\\site-packages\\langchain_core\\_api\\deprecation.py:139: LangChainDeprecationWarning: The method `BaseRetriever.get_relevant_documents` was deprecated in langchain-core 0.1.46 and will be removed in 0.3.0. Use invoke instead.\n",
            "  warn_deprecated(\n"
          ]
        },
        {
          "name": "stdout",
          "output_type": "stream",
          "text": [
            "{'datasource': 'vectorstore'}\n"
          ]
        }
      ],
      "source": [
        "### Router\n",
        "\n",
        "from langchain_community.chat_models import ChatOllama\n",
        "from langchain_core.output_parsers import JsonOutputParser\n",
        "from langchain_core.prompts import PromptTemplate\n",
        "\n",
        "# LLM\n",
        "llm = ChatOllama(model=local_llm, format=\"json\", temperature=0)\n",
        "\n",
        "prompt = PromptTemplate(\n",
        "    template=\"\"\"<|begin_of_text|><|start_header_id|>system<|end_header_id|> You are an expert at routing a\n",
        "    user question to a vectorstore or web search. Use the vectorstore for questions on LLM  agents,\n",
        "    prompt engineering, and adversarial attacks. You do not need to be stringent with the keywords\n",
        "    in the question related to these topics. Otherwise, use web-search. Give a binary choice 'web_search'\n",
        "    or 'vectorstore' based on the question. Return the a JSON with a single key 'datasource' and\n",
        "    no premable or explanation. Question to route: {question} <|eot_id|><|start_header_id|>assistant<|end_header_id|>\"\"\",\n",
        "    input_variables=[\"question\"],\n",
        ")\n",
        "\n",
        "question_router = prompt | llm | JsonOutputParser()\n",
        "question = \"llm agent memory\"\n",
        "docs = retriever.get_relevant_documents(question)\n",
        "doc_txt = docs[1].page_content\n",
        "print(question_router.invoke({\"question\": question}))"
      ]
    },
    {
      "cell_type": "code",
      "execution_count": null,
      "id": "023ff2db-eb4e-4d44-904c-ea061abc16d9",
      "metadata": {
        "id": "023ff2db-eb4e-4d44-904c-ea061abc16d9"
      },
      "outputs": [],
      "source": [
        "### Search\n",
        "from langchain_community.tools.tavily_search import TavilySearchResults\n",
        "os.environ['TAVILY_API_KEY'] = \"tvly-6********************J\"\n",
        "web_search_tool = TavilySearchResults(k=3)"
      ]
    },
    {
      "cell_type": "markdown",
      "id": "ccd59cdf-a04d-4b2e-b9cc-6a1b1e80a6c6",
      "metadata": {
        "id": "ccd59cdf-a04d-4b2e-b9cc-6a1b1e80a6c6"
      },
      "source": [
        "We'll implement these as a control flow in LangGraph."
      ]
    },
    {
      "cell_type": "code",
      "execution_count": null,
      "id": "07fa3d08-6a86-4705-a28b-e2721070bc5e",
      "metadata": {
        "id": "07fa3d08-6a86-4705-a28b-e2721070bc5e"
      },
      "outputs": [],
      "source": [
        "from pprint import pprint\n",
        "from typing import List\n",
        "\n",
        "from langchain_core.documents import Document\n",
        "from typing_extensions import TypedDict\n",
        "\n",
        "from langgraph.graph import END, StateGraph, START\n",
        "\n",
        "### State\n",
        "\n",
        "\n",
        "class GraphState(TypedDict):\n",
        "    \"\"\"\n",
        "    Represents the state of our graph.\n",
        "\n",
        "    Attributes:\n",
        "        question: question\n",
        "        generation: LLM generation\n",
        "        web_search: whether to add search\n",
        "        documents: list of documents\n",
        "    \"\"\"\n",
        "\n",
        "    question: str\n",
        "    generation: str\n",
        "    web_search: str\n",
        "    documents: List[str]\n",
        "\n",
        "\n",
        "### Nodes\n",
        "\n",
        "\n",
        "def retrieve(state):\n",
        "    \"\"\"\n",
        "    Retrieve documents from vectorstore\n",
        "\n",
        "    Args:\n",
        "        state (dict): The current graph state\n",
        "\n",
        "    Returns:\n",
        "        state (dict): New key added to state, documents, that contains retrieved documents\n",
        "    \"\"\"\n",
        "    print(\"---RETRIEVE---\")\n",
        "    question = state[\"question\"]\n",
        "\n",
        "    # Retrieval\n",
        "    documents = retriever.invoke(question)\n",
        "    return {\"documents\": documents, \"question\": question}\n",
        "\n",
        "\n",
        "def generate(state):\n",
        "    \"\"\"\n",
        "    Generate answer using RAG on retrieved documents\n",
        "\n",
        "    Args:\n",
        "        state (dict): The current graph state\n",
        "\n",
        "    Returns:\n",
        "        state (dict): New key added to state, generation, that contains LLM generation\n",
        "    \"\"\"\n",
        "    print(\"---GENERATE---\")\n",
        "    question = state[\"question\"]\n",
        "    documents = state[\"documents\"]\n",
        "\n",
        "    # RAG generation\n",
        "    generation = rag_chain.invoke({\"context\": documents, \"question\": question})\n",
        "    return {\"documents\": documents, \"question\": question, \"generation\": generation}\n",
        "\n",
        "\n",
        "def grade_documents(state):\n",
        "    \"\"\"\n",
        "    Determines whether the retrieved documents are relevant to the question\n",
        "    If any document is not relevant, we will set a flag to run web search\n",
        "\n",
        "    Args:\n",
        "        state (dict): The current graph state\n",
        "\n",
        "    Returns:\n",
        "        state (dict): Filtered out irrelevant documents and updated web_search state\n",
        "    \"\"\"\n",
        "\n",
        "    print(\"---CHECK DOCUMENT RELEVANCE TO QUESTION---\")\n",
        "    question = state[\"question\"]\n",
        "    documents = state[\"documents\"]\n",
        "\n",
        "    # Score each doc\n",
        "    filtered_docs = []\n",
        "    web_search = \"No\"\n",
        "    for d in documents:\n",
        "        score = retrieval_grader.invoke(\n",
        "            {\"question\": question, \"document\": d.page_content}\n",
        "        )\n",
        "        grade = score[\"score\"]\n",
        "        # Document relevant\n",
        "        if grade.lower() == \"yes\":\n",
        "            print(\"---GRADE: DOCUMENT RELEVANT---\")\n",
        "            filtered_docs.append(d)\n",
        "        # Document not relevant\n",
        "        else:\n",
        "            print(\"---GRADE: DOCUMENT NOT RELEVANT---\")\n",
        "            # We do not include the document in filtered_docs\n",
        "            # We set a flag to indicate that we want to run web search\n",
        "            web_search = \"Yes\"\n",
        "            continue\n",
        "    return {\"documents\": filtered_docs, \"question\": question, \"web_search\": web_search}\n",
        "\n",
        "\n",
        "def web_search(state):\n",
        "    \"\"\"\n",
        "    Web search based based on the question\n",
        "\n",
        "    Args:\n",
        "        state (dict): The current graph state\n",
        "\n",
        "    Returns:\n",
        "        state (dict): Appended web results to documents\n",
        "    \"\"\"\n",
        "\n",
        "    print(\"---WEB SEARCH---\")\n",
        "    question = state[\"question\"]\n",
        "    documents = state[\"documents\"]\n",
        "\n",
        "    # Web search\n",
        "    docs = web_search_tool.invoke({\"query\": question})\n",
        "    web_results = \"\\n\".join([d[\"content\"] for d in docs])\n",
        "    web_results = Document(page_content=web_results)\n",
        "    if documents is not None:\n",
        "        documents.append(web_results)\n",
        "    else:\n",
        "        documents = [web_results]\n",
        "    return {\"documents\": documents, \"question\": question}\n",
        "\n",
        "\n",
        "### Conditional edge\n",
        "\n",
        "\n",
        "def route_question(state):\n",
        "    \"\"\"\n",
        "    Route question to web search or RAG.\n",
        "\n",
        "    Args:\n",
        "        state (dict): The current graph state\n",
        "\n",
        "    Returns:\n",
        "        str: Next node to call\n",
        "    \"\"\"\n",
        "\n",
        "    print(\"---ROUTE QUESTION---\")\n",
        "    question = state[\"question\"]\n",
        "    print(question)\n",
        "    source = question_router.invoke({\"question\": question})\n",
        "    print(source)\n",
        "    print(source[\"datasource\"])\n",
        "    if source[\"datasource\"] == \"web_search\":\n",
        "        print(\"---ROUTE QUESTION TO WEB SEARCH---\")\n",
        "        return \"websearch\"\n",
        "    elif source[\"datasource\"] == \"vectorstore\":\n",
        "        print(\"---ROUTE QUESTION TO RAG---\")\n",
        "        return \"vectorstore\"\n",
        "\n",
        "\n",
        "def decide_to_generate(state):\n",
        "    \"\"\"\n",
        "    Determines whether to generate an answer, or add web search\n",
        "\n",
        "    Args:\n",
        "        state (dict): The current graph state\n",
        "\n",
        "    Returns:\n",
        "        str: Binary decision for next node to call\n",
        "    \"\"\"\n",
        "\n",
        "    print(\"---ASSESS GRADED DOCUMENTS---\")\n",
        "    state[\"question\"]\n",
        "    web_search = state[\"web_search\"]\n",
        "    state[\"documents\"]\n",
        "\n",
        "    if web_search == \"Yes\":\n",
        "        # All documents have been filtered check_relevance\n",
        "        # We will re-generate a new query\n",
        "        print(\n",
        "            \"---DECISION: ALL DOCUMENTS ARE NOT RELEVANT TO QUESTION, INCLUDE WEB SEARCH---\"\n",
        "        )\n",
        "        return \"websearch\"\n",
        "    else:\n",
        "        # We have relevant documents, so generate answer\n",
        "        print(\"---DECISION: GENERATE---\")\n",
        "        return \"generate\"\n",
        "\n",
        "\n",
        "### Conditional edge\n",
        "\n",
        "\n",
        "def grade_generation_v_documents_and_question(state):\n",
        "    \"\"\"\n",
        "    Determines whether the generation is grounded in the document and answers question.\n",
        "\n",
        "    Args:\n",
        "        state (dict): The current graph state\n",
        "\n",
        "    Returns:\n",
        "        str: Decision for next node to call\n",
        "    \"\"\"\n",
        "\n",
        "    print(\"---CHECK HALLUCINATIONS---\")\n",
        "    question = state[\"question\"]\n",
        "    documents = state[\"documents\"]\n",
        "    generation = state[\"generation\"]\n",
        "\n",
        "    score = hallucination_grader.invoke(\n",
        "        {\"documents\": documents, \"generation\": generation}\n",
        "    )\n",
        "    grade = score[\"score\"]\n",
        "\n",
        "    # Check hallucination\n",
        "    if grade == \"yes\":\n",
        "        print(\"---DECISION: GENERATION IS GROUNDED IN DOCUMENTS---\")\n",
        "        # Check question-answering\n",
        "        print(\"---GRADE GENERATION vs QUESTION---\")\n",
        "        score = answer_grader.invoke({\"question\": question, \"generation\": generation})\n",
        "        grade = score[\"score\"]\n",
        "        if grade == \"yes\":\n",
        "            print(\"---DECISION: GENERATION ADDRESSES QUESTION---\")\n",
        "            return \"useful\"\n",
        "        else:\n",
        "            print(\"---DECISION: GENERATION DOES NOT ADDRESS QUESTION---\")\n",
        "            return \"not useful\"\n",
        "    else:\n",
        "        pprint(\"---DECISION: GENERATION IS NOT GROUNDED IN DOCUMENTS, RE-TRY---\")\n",
        "        return \"not supported\"\n",
        "\n",
        "\n",
        "workflow = StateGraph(GraphState)\n",
        "\n",
        "# Define the nodes\n",
        "workflow.add_node(\"websearch\", web_search)  # web search\n",
        "workflow.add_node(\"retrieve\", retrieve)  # retrieve\n",
        "workflow.add_node(\"grade_documents\", grade_documents)  # grade documents\n",
        "workflow.add_node(\"generate\", generate)  # generatae"
      ]
    },
    {
      "cell_type": "markdown",
      "id": "73f21594-00d4-48a8-ae2e-4e55a010b540",
      "metadata": {
        "id": "73f21594-00d4-48a8-ae2e-4e55a010b540"
      },
      "source": [
        "### Graph Build"
      ]
    },
    {
      "cell_type": "code",
      "execution_count": null,
      "id": "d9a4b9e4-3ba8-47d6-958c-e5a7112ac6f4",
      "metadata": {
        "id": "d9a4b9e4-3ba8-47d6-958c-e5a7112ac6f4"
      },
      "outputs": [],
      "source": [
        "# Build graph\n",
        "workflow.add_conditional_edges(\n",
        "    START,\n",
        "    route_question,\n",
        "    {\n",
        "        \"websearch\": \"websearch\",\n",
        "        \"vectorstore\": \"retrieve\",\n",
        "    },\n",
        ")\n",
        "\n",
        "workflow.add_edge(\"retrieve\", \"grade_documents\")\n",
        "workflow.add_conditional_edges(\n",
        "    \"grade_documents\",\n",
        "    decide_to_generate,\n",
        "    {\n",
        "        \"websearch\": \"websearch\",\n",
        "        \"generate\": \"generate\",\n",
        "    },\n",
        ")\n",
        "workflow.add_edge(\"websearch\", \"generate\")\n",
        "workflow.add_conditional_edges(\n",
        "    \"generate\",\n",
        "    grade_generation_v_documents_and_question,\n",
        "    {\n",
        "        \"not supported\": \"generate\",\n",
        "        \"useful\": END,\n",
        "        \"not useful\": \"websearch\",\n",
        "    },\n",
        ")"
      ]
    },
    {
      "cell_type": "code",
      "execution_count": null,
      "id": "13043b0f-17c7-49d3-9ea7-8f2c0f0c8691",
      "metadata": {
        "id": "13043b0f-17c7-49d3-9ea7-8f2c0f0c8691",
        "outputId": "f4f3d434-80ea-44c6-b8c9-c2dbf96a6548"
      },
      "outputs": [
        {
          "name": "stdout",
          "output_type": "stream",
          "text": [
            "---ROUTE QUESTION---\n",
            "What are the types of agent memory?\n",
            "{'datasource': 'vectorstore'}\n",
            "vectorstore\n",
            "---ROUTE QUESTION TO RAG---\n",
            "---RETRIEVE---\n",
            "'Finished running: retrieve:'\n",
            "---CHECK DOCUMENT RELEVANCE TO QUESTION---\n",
            "---GRADE: DOCUMENT RELEVANT---\n",
            "---GRADE: DOCUMENT RELEVANT---\n",
            "---GRADE: DOCUMENT RELEVANT---\n",
            "---GRADE: DOCUMENT RELEVANT---\n",
            "---ASSESS GRADED DOCUMENTS---\n",
            "---DECISION: GENERATE---\n",
            "'Finished running: grade_documents:'\n",
            "---GENERATE---\n",
            "---CHECK HALLUCINATIONS---\n",
            "---DECISION: GENERATION IS GROUNDED IN DOCUMENTS---\n",
            "---GRADE GENERATION vs QUESTION---\n",
            "---DECISION: GENERATION ADDRESSES QUESTION---\n",
            "'Finished running: generate:'\n",
            "('The types of agent memory mentioned in the context are:\\n'\n",
            " '\\n'\n",
            " '* Sensory Memory\\n'\n",
            " '* Long-term memory module, also referred to as \"Memory stream\", which '\n",
            " \"records a comprehensive list of agents' experience in natural language.\\n\"\n",
            " '\\n'\n",
            " 'Note that these are the only two types of memory explicitly mentioned in the '\n",
            " 'provided context.')\n"
          ]
        }
      ],
      "source": [
        "# Compile\n",
        "app = workflow.compile()\n",
        "\n",
        "# Test\n",
        "\n",
        "inputs = {\"question\": \"What are the types of agent memory?\"}\n",
        "for output in app.stream(inputs):\n",
        "    for key, value in output.items():\n",
        "        pprint(f\"Finished running: {key}:\")\n",
        "pprint(value[\"generation\"])"
      ]
    },
    {
      "cell_type": "markdown",
      "id": "d733ab80-7e7b-4b1a-9519-9242de647eda",
      "metadata": {
        "id": "d733ab80-7e7b-4b1a-9519-9242de647eda"
      },
      "source": [
        "Trace:\n",
        "\n",
        "https://smith.langchain.com/public/8d449b67-6bc4-4ecf-9153-759cd21df24f/r"
      ]
    },
    {
      "cell_type": "code",
      "execution_count": null,
      "id": "fbfcec3e-a09a-40b4-9c15-fead97bf4e0a",
      "metadata": {
        "id": "fbfcec3e-a09a-40b4-9c15-fead97bf4e0a",
        "outputId": "ec38814f-3e5a-479a-b2a2-24e10053900f"
      },
      "outputs": [
        {
          "name": "stdout",
          "output_type": "stream",
          "text": [
            "---ROUTE QUESTION---\n",
            "How to consume a paracetamol tablet\n",
            "{'datasource': 'web_search'}\n",
            "web_search\n",
            "---ROUTE QUESTION TO WEB SEARCH---\n",
            "---WEB SEARCH---\n",
            "'Finished running: websearch:'\n",
            "---GENERATE---\n",
            "---CHECK HALLUCINATIONS---\n",
            "---DECISION: GENERATION IS GROUNDED IN DOCUMENTS---\n",
            "---GRADE GENERATION vs QUESTION---\n",
            "---DECISION: GENERATION ADDRESSES QUESTION---\n",
            "'Finished running: generate:'\n",
            "('To consume a paracetamol tablet, adults and teenagers can take 650-1000 '\n",
            " 'milligrams (mg) every 4-6 hours as needed. The usual dose is one or two '\n",
            " '500mg tablets at a time, up to four times in 24 hours with a maximum of '\n",
            " 'eight tablets in 24 hours. Always follow the label instructions for the '\n",
            " 'maximum dose per day and do not take paracetamol with other medicines '\n",
            " 'containing paracetamol.')\n"
          ]
        }
      ],
      "source": [
        "from pprint import pprint\n",
        "\n",
        "# Compile\n",
        "app = workflow.compile()\n",
        "inputs = {\"question\": \"How to consume a paracetamol tablet\"}\n",
        "for output in app.stream(inputs):\n",
        "    for key, value in output.items():\n",
        "        pprint(f\"Finished running: {key}:\")\n",
        "pprint(value[\"generation\"])"
      ]
    },
    {
      "cell_type": "markdown",
      "id": "2d74d784-daf2-469a-883a-697a98b48dbd",
      "metadata": {
        "id": "2d74d784-daf2-469a-883a-697a98b48dbd"
      },
      "source": [
        "Trace:\n",
        "\n",
        "https://smith.langchain.com/public/c785f9c0-f519-4a38-ad5a-febb59a2139c/r"
      ]
    },
    {
      "cell_type": "code",
      "execution_count": null,
      "id": "1da64a95-736b-4373-8fb4-6ed4bf60a647",
      "metadata": {
        "id": "1da64a95-736b-4373-8fb4-6ed4bf60a647"
      },
      "outputs": [],
      "source": []
    }
  ],
  "metadata": {
    "kernelspec": {
      "display_name": "Python 3 (ipykernel)",
      "language": "python",
      "name": "python3"
    },
    "language_info": {
      "codemirror_mode": {
        "name": "ipython",
        "version": 3
      },
      "file_extension": ".py",
      "mimetype": "text/x-python",
      "name": "python",
      "nbconvert_exporter": "python",
      "pygments_lexer": "ipython3",
      "version": "3.9.13"
    },
    "colab": {
      "provenance": [],
      "include_colab_link": true
    }
  },
  "nbformat": 4,
  "nbformat_minor": 5
}